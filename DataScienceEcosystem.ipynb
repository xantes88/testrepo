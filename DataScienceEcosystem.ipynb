{
 "cells": [
  {
   "cell_type": "markdown",
   "id": "5063ca53-db55-4217-9400-fb0c1d0a865b",
   "metadata": {
    "tags": []
   },
   "source": [
    "# Data Science Tools and Ecosystem\n"
   ]
  },
  {
   "cell_type": "markdown",
   "id": "3c269182-e7d2-4724-a3e8-04b614f82466",
   "metadata": {
    "tags": []
   },
   "source": [
    "In this notebook, Data Science Tools and Ecosystem are summarized.\n"
   ]
  },
  {
   "cell_type": "markdown",
   "id": "7441cb87-c9bf-45a7-98a5-9aee388d63cb",
   "metadata": {
    "tags": []
   },
   "source": [
    "**Objectives:**\n",
    "* List of popular languages of data science\n",
    "* list of most common libraries \n",
    "* Data science tools\n",
    "* List of arithmetic expressions in python\n"
   ]
  },
  {
   "cell_type": "markdown",
   "id": "cf513b20-0535-4aef-b85c-682e38afb715",
   "metadata": {
    "tags": []
   },
   "source": [
    "Some of the popular languages that Data Scientists use are:\n",
    "1. Python\n",
    "2. R\n",
    "3. SQL\n"
   ]
  },
  {
   "cell_type": "markdown",
   "id": "732f8e2f-cb35-4415-ac48-c0f281f92854",
   "metadata": {},
   "source": [
    "Some of the commonly used libraries used by Data Scientists include:\n",
    "1. Pandas\n",
    "2. Keras\n",
    "3. Pytorch\n"
   ]
  },
  {
   "cell_type": "markdown",
   "id": "db9bb6e0-825b-4089-8eb9-37b124ff04b3",
   "metadata": {
    "tags": []
   },
   "source": [
    "| Data Science Tools |\n",
    "|:--------:|\n",
    "|  R   | \n",
    "|  SAS  | \n",
    "|  TensorFlow   | "
   ]
  },
  {
   "cell_type": "markdown",
   "id": "54b7dbd1-7a2b-46d2-add1-3c2292d8ab15",
   "metadata": {
    "tags": []
   },
   "source": [
    "### Below are a few examples of evaluating arithmetic expressions in Python."
   ]
  },
  {
   "cell_type": "code",
   "execution_count": 31,
   "id": "c4d3c408-4449-4944-a61d-746f87baf180",
   "metadata": {
    "tags": []
   },
   "outputs": [
    {
     "data": {
      "text/plain": [
       "17"
      ]
     },
     "execution_count": 31,
     "metadata": {},
     "output_type": "execute_result"
    }
   ],
   "source": [
    "#This a simple arithmetic expression to mutiply then add integers\n",
    "(3*4)+5"
   ]
  },
  {
   "cell_type": "code",
   "execution_count": 33,
   "id": "fd1c5e7a-e142-45d9-80bb-ae2b673afae2",
   "metadata": {
    "tags": []
   },
   "outputs": [
    {
     "data": {
      "text/plain": [
       "3.3333333333333335"
      ]
     },
     "execution_count": 33,
     "metadata": {},
     "output_type": "execute_result"
    }
   ],
   "source": [
    "#This will convert 200 minutes to hours by diving by 60\n",
    "200/60\n"
   ]
  },
  {
   "cell_type": "markdown",
   "id": "60112fda-a654-40d7-8f41-9a5738dabe28",
   "metadata": {
    "tags": []
   },
   "source": [
    "## Author"
   ]
  },
  {
   "cell_type": "markdown",
   "id": "cab339c2-1035-4d57-9d37-dae0a6085f90",
   "metadata": {},
   "source": [
    "Federico Petillo"
   ]
  },
  {
   "cell_type": "code",
   "execution_count": null,
   "id": "c69f19be-51c2-41b6-b632-67e8983a6bc4",
   "metadata": {},
   "outputs": [],
   "source": []
  }
 ],
 "metadata": {
  "kernelspec": {
   "display_name": "Python 3 (ipykernel)",
   "language": "python",
   "name": "python3"
  },
  "language_info": {
   "codemirror_mode": {
    "name": "ipython",
    "version": 3
   },
   "file_extension": ".py",
   "mimetype": "text/x-python",
   "name": "python",
   "nbconvert_exporter": "python",
   "pygments_lexer": "ipython3",
   "version": "3.11.7"
  }
 },
 "nbformat": 4,
 "nbformat_minor": 5
}
